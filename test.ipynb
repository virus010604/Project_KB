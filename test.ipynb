{
 "cells": [
  {
   "cell_type": "code",
   "execution_count": 22,
   "metadata": {},
   "outputs": [],
   "source": [
    "import tensorflow as tf\n",
    "from tensorflow.keras.preprocessing.image import ImageDataGenerator, load_img, img_to_array # type: ignore\n",
    "import numpy as np"
   ]
  },
  {
   "cell_type": "code",
   "execution_count": 23,
   "metadata": {},
   "outputs": [],
   "source": [
    "# 1. Memuat model yang telah disimpan\n",
    "model = tf.keras.models.load_model(\"Amin_model.keras\")"
   ]
  },
  {
   "cell_type": "code",
   "execution_count": 24,
   "metadata": {},
   "outputs": [],
   "source": [
    "from tensorflow.keras.preprocessing.image import load_img, img_to_array # type: ignore\n",
    "\n",
    "# 2. Menyiapkan data baru untuk prediksi\n",
    "image_path = r\"C:\\JUAN KUGANDA\\aug_0_5815.jpeg\"\n",
    "img = load_img(image_path, target_size=(128, 128))\n",
    "img_array = img_to_array(img)\n",
    "img_array = np.expand_dims(img_array, axis=0)\n",
    "img_array /= 255.0"
   ]
  },
  {
   "cell_type": "code",
   "execution_count": 25,
   "metadata": {},
   "outputs": [
    {
     "name": "stdout",
     "output_type": "stream",
     "text": [
      "Found 273 images belonging to 21 classes.\n",
      "Class Names: ['Ahmad Mujahid', 'Alif Risaldy', 'Amirul Ganteng', 'Aulia', 'Fitra', 'Hajera', 'I Wayan Arigayu Saputra', 'Imam Agil', 'Jessica Andryani', 'Juan P Kuganda', 'Moh Izhan', 'Muh Nur Alif', 'Muh. Fadhlur Rahman', 'Nayla', 'Rasya Rahmat', 'Rut Naomi', 'Siti Hajar', 'Yunus Syahrul Mubarok', 'ZULHAJIR', 'ara cimol', 'sifa']\n"
     ]
    }
   ],
   "source": [
    "# Path ke direktori data training\n",
    "TRAIN_PATH = r\"C:\\JUAN KUGANDA\\UASKB\\dataset\\train\"\n",
    "\n",
    "# Buat ImageDataGenerator untuk data training\n",
    "train_datagen = ImageDataGenerator(rescale=1.0/255)\n",
    "\n",
    "train_generator = train_datagen.flow_from_directory(\n",
    "    TRAIN_PATH,\n",
    "    target_size=(150, 150),  # Sesuaikan ukuran gambar yang digunakan oleh model\n",
    "    batch_size=32,\n",
    "    class_mode='categorical'  # Sesuaikan dengan output model Anda\n",
    ")\n",
    "\n",
    "# Ambil class names dari train_generator\n",
    "class_names = list(train_generator.class_indices.keys())\n",
    "print(\"Class Names:\", class_names)"
   ]
  },
  {
   "cell_type": "code",
   "execution_count": 26,
   "metadata": {},
   "outputs": [
    {
     "name": "stdout",
     "output_type": "stream",
     "text": [
      "['Ahmad Mujahid', 'Alif Risaldy', 'Amirul Ganteng', 'Aulia', 'Fitra', 'Hajera', 'I Wayan Arigayu Saputra', 'Imam Agil', 'Jessica Andryani', 'Juan P Kuganda', 'Moh Izhan', 'Muh Nur Alif', 'Muh. Fadhlur Rahman', 'Nayla', 'Rasya Rahmat', 'Rut Naomi', 'Siti Hajar', 'Yunus Syahrul Mubarok', 'ZULHAJIR', 'ara cimol', 'sifa']\n",
      "\u001b[1m1/1\u001b[0m \u001b[32m━━━━━━━━━━━━━━━━━━━━\u001b[0m\u001b[37m\u001b[0m \u001b[1m2s\u001b[0m 2s/step\n"
     ]
    }
   ],
   "source": [
    "# 4. Melakukan prediksi\n",
    "# Deklarasi class names sesuai dengan nama-nama dalam dataset\n",
    "print(class_names)\n",
    "predictions = model.predict(img_array)\n",
    "predicted_class_index = np.argmax(predictions, axis=1)[0]\n",
    "predicted_class_name = class_names[predicted_class_index]\n",
    "predicted_class_percentage = predictions[0][predicted_class_index] * 100"
   ]
  },
  {
   "cell_type": "code",
   "execution_count": 27,
   "metadata": {},
   "outputs": [
    {
     "name": "stdout",
     "output_type": "stream",
     "text": [
      "Predicted class: Ahmad Mujahid\n",
      "Confidence: 20.42%\n"
     ]
    }
   ],
   "source": [
    "# 5. Menampilkan hasil prediksi\n",
    "print(f\"Predicted class: {predicted_class_name}\")\n",
    "print(f\"Confidence: {predicted_class_percentage:.2f}%\")"
   ]
  }
 ],
 "metadata": {
  "kernelspec": {
   "display_name": "base",
   "language": "python",
   "name": "python3"
  },
  "language_info": {
   "codemirror_mode": {
    "name": "ipython",
    "version": 3
   },
   "file_extension": ".py",
   "mimetype": "text/x-python",
   "name": "python",
   "nbconvert_exporter": "python",
   "pygments_lexer": "ipython3",
   "version": "3.12.3"
  }
 },
 "nbformat": 4,
 "nbformat_minor": 2
}
